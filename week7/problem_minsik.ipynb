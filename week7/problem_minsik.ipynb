{
  "cells": [
    {
      "cell_type": "markdown",
      "metadata": {
        "id": "view-in-github",
        "colab_type": "text"
      },
      "source": [
        "<a href=\"https://colab.research.google.com/github/dhcryan/kaggle_challenge_/blob/main/week7/problem_minsik.ipynb\" target=\"_parent\"><img src=\"https://colab.research.google.com/assets/colab-badge.svg\" alt=\"Open In Colab\"/></a>"
      ]
    },
    {
      "cell_type": "code",
      "execution_count": null,
      "id": "limiting-lawrence",
      "metadata": {
        "id": "limiting-lawrence"
      },
      "outputs": [],
      "source": [
        "import pandas as pd \n",
        "import os \n",
        "import warnings"
      ]
    },
    {
      "cell_type": "code",
      "execution_count": null,
      "id": "fuzzy-configuration",
      "metadata": {
        "id": "fuzzy-configuration"
      },
      "outputs": [],
      "source": [
        "warnings.filterwarnings(\"ignore\")"
      ]
    },
    {
      "cell_type": "code",
      "execution_count": null,
      "id": "mounted-clark",
      "metadata": {
        "id": "mounted-clark"
      },
      "outputs": [],
      "source": [
        "train = pd.read_csv(\"funda_train.csv\")"
      ]
    },
    {
      "cell_type": "code",
      "execution_count": null,
      "id": "hybrid-petite",
      "metadata": {
        "id": "hybrid-petite"
      },
      "outputs": [],
      "source": [
        "submission = pd.read_csv('submission.csv')"
      ]
    },
    {
      "cell_type": "code",
      "execution_count": null,
      "id": "heavy-buyer",
      "metadata": {
        "id": "heavy-buyer",
        "outputId": "e0f98dd5-67ad-4eb3-c7b1-47819e71a53b"
      },
      "outputs": [
        {
          "data": {
            "text/plain": [
              "(1967, 2)"
            ]
          },
          "execution_count": 5,
          "metadata": {},
          "output_type": "execute_result"
        }
      ],
      "source": [
        "submission.shape"
      ]
    },
    {
      "cell_type": "code",
      "execution_count": null,
      "id": "successful-tyler",
      "metadata": {
        "id": "successful-tyler",
        "outputId": "f870926f-e5b4-4394-aebc-36f4c0673fd9"
      },
      "outputs": [
        {
          "data": {
            "text/html": [
              "<div>\n",
              "<style scoped>\n",
              "    .dataframe tbody tr th:only-of-type {\n",
              "        vertical-align: middle;\n",
              "    }\n",
              "\n",
              "    .dataframe tbody tr th {\n",
              "        vertical-align: top;\n",
              "    }\n",
              "\n",
              "    .dataframe thead th {\n",
              "        text-align: right;\n",
              "    }\n",
              "</style>\n",
              "<table border=\"1\" class=\"dataframe\">\n",
              "  <thead>\n",
              "    <tr style=\"text-align: right;\">\n",
              "      <th></th>\n",
              "      <th>store_id</th>\n",
              "      <th>card_id</th>\n",
              "      <th>card_company</th>\n",
              "      <th>transacted_date</th>\n",
              "      <th>transacted_time</th>\n",
              "      <th>installment_term</th>\n",
              "      <th>region</th>\n",
              "      <th>type_of_business</th>\n",
              "      <th>amount</th>\n",
              "    </tr>\n",
              "  </thead>\n",
              "  <tbody>\n",
              "    <tr>\n",
              "      <th>0</th>\n",
              "      <td>0</td>\n",
              "      <td>0</td>\n",
              "      <td>b</td>\n",
              "      <td>2016-06-01</td>\n",
              "      <td>13:13</td>\n",
              "      <td>0.0</td>\n",
              "      <td>NaN</td>\n",
              "      <td>기타 미용업</td>\n",
              "      <td>1857.142857</td>\n",
              "    </tr>\n",
              "    <tr>\n",
              "      <th>1</th>\n",
              "      <td>0</td>\n",
              "      <td>1</td>\n",
              "      <td>h</td>\n",
              "      <td>2016-06-01</td>\n",
              "      <td>18:12</td>\n",
              "      <td>0.0</td>\n",
              "      <td>NaN</td>\n",
              "      <td>기타 미용업</td>\n",
              "      <td>857.142857</td>\n",
              "    </tr>\n",
              "    <tr>\n",
              "      <th>2</th>\n",
              "      <td>0</td>\n",
              "      <td>2</td>\n",
              "      <td>c</td>\n",
              "      <td>2016-06-01</td>\n",
              "      <td>18:52</td>\n",
              "      <td>0.0</td>\n",
              "      <td>NaN</td>\n",
              "      <td>기타 미용업</td>\n",
              "      <td>2000.000000</td>\n",
              "    </tr>\n",
              "    <tr>\n",
              "      <th>3</th>\n",
              "      <td>0</td>\n",
              "      <td>3</td>\n",
              "      <td>a</td>\n",
              "      <td>2016-06-01</td>\n",
              "      <td>20:22</td>\n",
              "      <td>0.0</td>\n",
              "      <td>NaN</td>\n",
              "      <td>기타 미용업</td>\n",
              "      <td>7857.142857</td>\n",
              "    </tr>\n",
              "    <tr>\n",
              "      <th>4</th>\n",
              "      <td>0</td>\n",
              "      <td>4</td>\n",
              "      <td>c</td>\n",
              "      <td>2016-06-02</td>\n",
              "      <td>11:06</td>\n",
              "      <td>0.0</td>\n",
              "      <td>NaN</td>\n",
              "      <td>기타 미용업</td>\n",
              "      <td>2000.000000</td>\n",
              "    </tr>\n",
              "  </tbody>\n",
              "</table>\n",
              "</div>"
            ],
            "text/plain": [
              "   store_id  card_id card_company transacted_date transacted_time  \\\n",
              "0         0        0            b      2016-06-01           13:13   \n",
              "1         0        1            h      2016-06-01           18:12   \n",
              "2         0        2            c      2016-06-01           18:52   \n",
              "3         0        3            a      2016-06-01           20:22   \n",
              "4         0        4            c      2016-06-02           11:06   \n",
              "\n",
              "   installment_term region type_of_business       amount  \n",
              "0               0.0    NaN           기타 미용업  1857.142857  \n",
              "1               0.0    NaN           기타 미용업   857.142857  \n",
              "2               0.0    NaN           기타 미용업  2000.000000  \n",
              "3               0.0    NaN           기타 미용업  7857.142857  \n",
              "4               0.0    NaN           기타 미용업  2000.000000  "
            ]
          },
          "execution_count": 6,
          "metadata": {},
          "output_type": "execute_result"
        }
      ],
      "source": [
        "train.head()"
      ]
    },
    {
      "cell_type": "code",
      "execution_count": null,
      "id": "purple-fairy",
      "metadata": {
        "id": "purple-fairy",
        "outputId": "43c59905-78fe-4908-9219-d65e62cc4f99"
      },
      "outputs": [
        {
          "name": "stdout",
          "output_type": "stream",
          "text": [
            "<class 'pandas.core.frame.DataFrame'>\n",
            "RangeIndex: 234860 entries, 0 to 234859\n",
            "Data columns (total 9 columns):\n",
            " #   Column            Non-Null Count   Dtype  \n",
            "---  ------            --------------   -----  \n",
            " 0   store_id          234860 non-null  int64  \n",
            " 1   card_id           234860 non-null  int64  \n",
            " 2   card_company      234859 non-null  object \n",
            " 3   transacted_date   234859 non-null  object \n",
            " 4   transacted_time   234859 non-null  object \n",
            " 5   installment_term  234859 non-null  float64\n",
            " 6   region            178007 non-null  object \n",
            " 7   type_of_business  84792 non-null   object \n",
            " 8   amount            234859 non-null  float64\n",
            "dtypes: float64(2), int64(2), object(5)\n",
            "memory usage: 16.1+ MB\n"
          ]
        }
      ],
      "source": [
        "train.info()"
      ]
    },
    {
      "cell_type": "code",
      "execution_count": null,
      "id": "opened-discretion",
      "metadata": {
        "id": "opened-discretion",
        "outputId": "983ac3c2-513e-428b-8b70-5936a26278c7"
      },
      "outputs": [
        {
          "data": {
            "text/html": [
              "<div>\n",
              "<style scoped>\n",
              "    .dataframe tbody tr th:only-of-type {\n",
              "        vertical-align: middle;\n",
              "    }\n",
              "\n",
              "    .dataframe tbody tr th {\n",
              "        vertical-align: top;\n",
              "    }\n",
              "\n",
              "    .dataframe thead th {\n",
              "        text-align: right;\n",
              "    }\n",
              "</style>\n",
              "<table border=\"1\" class=\"dataframe\">\n",
              "  <thead>\n",
              "    <tr style=\"text-align: right;\">\n",
              "      <th></th>\n",
              "      <th>store_id</th>\n",
              "      <th>card_id</th>\n",
              "      <th>card_company</th>\n",
              "      <th>transacted_date</th>\n",
              "      <th>transacted_time</th>\n",
              "      <th>installment_term</th>\n",
              "      <th>region</th>\n",
              "      <th>type_of_business</th>\n",
              "      <th>amount</th>\n",
              "    </tr>\n",
              "  </thead>\n",
              "  <tbody>\n",
              "    <tr>\n",
              "      <th>41</th>\n",
              "      <td>0</td>\n",
              "      <td>40</td>\n",
              "      <td>a</td>\n",
              "      <td>2016-06-10</td>\n",
              "      <td>17:26</td>\n",
              "      <td>2.0</td>\n",
              "      <td>NaN</td>\n",
              "      <td>기타 미용업</td>\n",
              "      <td>-8571.428571</td>\n",
              "    </tr>\n",
              "    <tr>\n",
              "      <th>347</th>\n",
              "      <td>0</td>\n",
              "      <td>285</td>\n",
              "      <td>a</td>\n",
              "      <td>2016-08-04</td>\n",
              "      <td>17:52</td>\n",
              "      <td>0.0</td>\n",
              "      <td>NaN</td>\n",
              "      <td>기타 미용업</td>\n",
              "      <td>-1857.142857</td>\n",
              "    </tr>\n",
              "    <tr>\n",
              "      <th>731</th>\n",
              "      <td>0</td>\n",
              "      <td>473</td>\n",
              "      <td>g</td>\n",
              "      <td>2016-10-17</td>\n",
              "      <td>10:32</td>\n",
              "      <td>0.0</td>\n",
              "      <td>NaN</td>\n",
              "      <td>기타 미용업</td>\n",
              "      <td>-2000.000000</td>\n",
              "    </tr>\n",
              "    <tr>\n",
              "      <th>831</th>\n",
              "      <td>0</td>\n",
              "      <td>230</td>\n",
              "      <td>b</td>\n",
              "      <td>2016-11-03</td>\n",
              "      <td>15:36</td>\n",
              "      <td>0.0</td>\n",
              "      <td>NaN</td>\n",
              "      <td>기타 미용업</td>\n",
              "      <td>-85.714286</td>\n",
              "    </tr>\n",
              "    <tr>\n",
              "      <th>944</th>\n",
              "      <td>0</td>\n",
              "      <td>138</td>\n",
              "      <td>a</td>\n",
              "      <td>2016-11-28</td>\n",
              "      <td>13:21</td>\n",
              "      <td>0.0</td>\n",
              "      <td>NaN</td>\n",
              "      <td>기타 미용업</td>\n",
              "      <td>-57.142857</td>\n",
              "    </tr>\n",
              "    <tr>\n",
              "      <th>...</th>\n",
              "      <td>...</td>\n",
              "      <td>...</td>\n",
              "      <td>...</td>\n",
              "      <td>...</td>\n",
              "      <td>...</td>\n",
              "      <td>...</td>\n",
              "      <td>...</td>\n",
              "      <td>...</td>\n",
              "      <td>...</td>\n",
              "    </tr>\n",
              "    <tr>\n",
              "      <th>234209</th>\n",
              "      <td>66</td>\n",
              "      <td>172507</td>\n",
              "      <td>a</td>\n",
              "      <td>2016-08-17</td>\n",
              "      <td>22:01</td>\n",
              "      <td>0.0</td>\n",
              "      <td>경북 경주시</td>\n",
              "      <td>한식 음식점업</td>\n",
              "      <td>-11142.857143</td>\n",
              "    </tr>\n",
              "    <tr>\n",
              "      <th>234510</th>\n",
              "      <td>66</td>\n",
              "      <td>172698</td>\n",
              "      <td>a</td>\n",
              "      <td>2016-09-26</td>\n",
              "      <td>19:24</td>\n",
              "      <td>0.0</td>\n",
              "      <td>경북 경주시</td>\n",
              "      <td>한식 음식점업</td>\n",
              "      <td>-14285.714286</td>\n",
              "    </tr>\n",
              "    <tr>\n",
              "      <th>234698</th>\n",
              "      <td>66</td>\n",
              "      <td>172820</td>\n",
              "      <td>a</td>\n",
              "      <td>2016-10-17</td>\n",
              "      <td>19:12</td>\n",
              "      <td>0.0</td>\n",
              "      <td>경북 경주시</td>\n",
              "      <td>한식 음식점업</td>\n",
              "      <td>-5642.857143</td>\n",
              "    </tr>\n",
              "    <tr>\n",
              "      <th>234777</th>\n",
              "      <td>66</td>\n",
              "      <td>172867</td>\n",
              "      <td>c</td>\n",
              "      <td>2016-10-27</td>\n",
              "      <td>20:03</td>\n",
              "      <td>0.0</td>\n",
              "      <td>경북 경주시</td>\n",
              "      <td>한식 음식점업</td>\n",
              "      <td>-4142.857143</td>\n",
              "    </tr>\n",
              "    <tr>\n",
              "      <th>234824</th>\n",
              "      <td>66</td>\n",
              "      <td>172894</td>\n",
              "      <td>a</td>\n",
              "      <td>2016-10-31</td>\n",
              "      <td>21:50</td>\n",
              "      <td>0.0</td>\n",
              "      <td>경북 경주시</td>\n",
              "      <td>한식 음식점업</td>\n",
              "      <td>-13071.428571</td>\n",
              "    </tr>\n",
              "  </tbody>\n",
              "</table>\n",
              "<p>2417 rows × 9 columns</p>\n",
              "</div>"
            ],
            "text/plain": [
              "        store_id  card_id card_company transacted_date transacted_time  \\\n",
              "41             0       40            a      2016-06-10           17:26   \n",
              "347            0      285            a      2016-08-04           17:52   \n",
              "731            0      473            g      2016-10-17           10:32   \n",
              "831            0      230            b      2016-11-03           15:36   \n",
              "944            0      138            a      2016-11-28           13:21   \n",
              "...          ...      ...          ...             ...             ...   \n",
              "234209        66   172507            a      2016-08-17           22:01   \n",
              "234510        66   172698            a      2016-09-26           19:24   \n",
              "234698        66   172820            a      2016-10-17           19:12   \n",
              "234777        66   172867            c      2016-10-27           20:03   \n",
              "234824        66   172894            a      2016-10-31           21:50   \n",
              "\n",
              "        installment_term  region type_of_business        amount  \n",
              "41                   2.0     NaN           기타 미용업  -8571.428571  \n",
              "347                  0.0     NaN           기타 미용업  -1857.142857  \n",
              "731                  0.0     NaN           기타 미용업  -2000.000000  \n",
              "831                  0.0     NaN           기타 미용업    -85.714286  \n",
              "944                  0.0     NaN           기타 미용업    -57.142857  \n",
              "...                  ...     ...              ...           ...  \n",
              "234209               0.0  경북 경주시          한식 음식점업 -11142.857143  \n",
              "234510               0.0  경북 경주시          한식 음식점업 -14285.714286  \n",
              "234698               0.0  경북 경주시          한식 음식점업  -5642.857143  \n",
              "234777               0.0  경북 경주시          한식 음식점업  -4142.857143  \n",
              "234824               0.0  경북 경주시          한식 음식점업 -13071.428571  \n",
              "\n",
              "[2417 rows x 9 columns]"
            ]
          },
          "execution_count": 8,
          "metadata": {},
          "output_type": "execute_result"
        }
      ],
      "source": [
        "train[train['amount']<0]"
      ]
    },
    {
      "cell_type": "code",
      "execution_count": null,
      "id": "ruled-coalition",
      "metadata": {
        "id": "ruled-coalition",
        "outputId": "2120fc1e-c11e-4000-fdcc-67c6b66765ac"
      },
      "outputs": [
        {
          "data": {
            "text/plain": [
              "'3.3.6'"
            ]
          },
          "execution_count": 9,
          "metadata": {},
          "output_type": "execute_result"
        }
      ],
      "source": [
        "import rpy2\n",
        "rpy2.__version__"
      ]
    },
    {
      "cell_type": "code",
      "execution_count": null,
      "id": "fallen-xerox",
      "metadata": {
        "id": "fallen-xerox",
        "outputId": "71d3f2ab-d1de-4d1b-a940-df52fcf7eeff"
      },
      "outputs": [
        {
          "data": {
            "text/plain": [
              "'1.19.5'"
            ]
          },
          "execution_count": 10,
          "metadata": {},
          "output_type": "execute_result"
        }
      ],
      "source": [
        "import numpy as np\n",
        "np.__version__"
      ]
    },
    {
      "cell_type": "code",
      "execution_count": null,
      "id": "naked-rebel",
      "metadata": {
        "id": "naked-rebel",
        "outputId": "bb090ce5-76dc-4ded-aad5-d97f14cae5d1"
      },
      "outputs": [
        {
          "name": "stdout",
          "output_type": "stream",
          "text": [
            "Collecting pmdarima==1.5.3\n",
            "  Using cached pmdarima-1.5.3-cp38-cp38-manylinux1_x86_64.whl (1.5 MB)\n",
            "Requirement already satisfied: scipy>=1.3.2 in /opt/conda/lib/python3.8/site-packages (from pmdarima==1.5.3) (1.5.3)\n",
            "Requirement already satisfied: pandas>=0.19 in /opt/conda/lib/python3.8/site-packages (from pmdarima==1.5.3) (1.1.5)\n",
            "Requirement already satisfied: statsmodels>=0.10.2 in /opt/conda/lib/python3.8/site-packages (from pmdarima==1.5.3) (0.12.1)\n",
            "Requirement already satisfied: numpy>=1.17.3 in /opt/conda/lib/python3.8/site-packages (from pmdarima==1.5.3) (1.19.5)\n",
            "Requirement already satisfied: urllib3 in /opt/conda/lib/python3.8/site-packages (from pmdarima==1.5.3) (1.26.2)\n",
            "Requirement already satisfied: joblib>=0.11 in /opt/conda/lib/python3.8/site-packages (from pmdarima==1.5.3) (1.0.0)\n",
            "Requirement already satisfied: scikit-learn>=0.22 in /opt/conda/lib/python3.8/site-packages (from pmdarima==1.5.3) (0.24.0)\n",
            "Requirement already satisfied: Cython>=0.29 in /opt/conda/lib/python3.8/site-packages (from pmdarima==1.5.3) (0.29.21)\n",
            "Requirement already satisfied: python-dateutil>=2.7.3 in /opt/conda/lib/python3.8/site-packages (from pandas>=0.19->pmdarima==1.5.3) (2.8.1)\n",
            "Requirement already satisfied: pytz>=2017.2 in /opt/conda/lib/python3.8/site-packages (from pandas>=0.19->pmdarima==1.5.3) (2020.5)\n",
            "Requirement already satisfied: six>=1.5 in /opt/conda/lib/python3.8/site-packages (from python-dateutil>=2.7.3->pandas>=0.19->pmdarima==1.5.3) (1.15.0)\n",
            "Requirement already satisfied: threadpoolctl>=2.0.0 in /opt/conda/lib/python3.8/site-packages (from scikit-learn>=0.22->pmdarima==1.5.3) (2.1.0)\n",
            "Requirement already satisfied: patsy>=0.5 in /opt/conda/lib/python3.8/site-packages (from statsmodels>=0.10.2->pmdarima==1.5.3) (0.5.1)\n",
            "Installing collected packages: pmdarima\n",
            "Successfully installed pmdarima-1.5.3\n",
            "Note: you may need to restart the kernel to use updated packages.\n"
          ]
        }
      ],
      "source": [
        "pip install pmdarima==1.5.3"
      ]
    },
    {
      "cell_type": "code",
      "execution_count": null,
      "id": "complimentary-milton",
      "metadata": {
        "id": "complimentary-milton"
      },
      "outputs": [],
      "source": [
        "import pmdarima"
      ]
    },
    {
      "cell_type": "code",
      "execution_count": null,
      "id": "floating-lawyer",
      "metadata": {
        "id": "floating-lawyer"
      },
      "outputs": [],
      "source": [
        "import statsmodels\n",
        "import seaborn as sns\n",
        "from tqdm import tqdm\n",
        "import matplotlib.pyplot as plt"
      ]
    },
    {
      "cell_type": "code",
      "execution_count": null,
      "id": "accredited-richards",
      "metadata": {
        "id": "accredited-richards",
        "outputId": "a27bb49e-feb3-4f9d-ff5a-ef859e7babe4"
      },
      "outputs": [
        {
          "data": {
            "text/plain": [
              "([0, 1, 2, 3, 4, 5, 6, 7, 8],\n",
              " [Text(0, 0, ''),\n",
              "  Text(0, 0, ''),\n",
              "  Text(0, 0, ''),\n",
              "  Text(0, 0, ''),\n",
              "  Text(0, 0, ''),\n",
              "  Text(0, 0, ''),\n",
              "  Text(0, 0, ''),\n",
              "  Text(0, 0, ''),\n",
              "  Text(0, 0, '')])"
            ]
          },
          "execution_count": 14,
          "metadata": {},
          "output_type": "execute_result"
        },
        {
          "data": {
            "image/png": "[encoded data removed]",
            "text/plain": [
              "<Figure size 936x288 with 1 Axes>"
            ]
          },
          "metadata": {
            "needs_background": "light"
          },
          "output_type": "display_data"
        }
      ],
      "source": [
        "plt.figure(figsize=(13,4))\n",
        "plt.bar(train.columns, train.isnull().sum())\n",
        "plt.xticks(rotation=45)"
      ]
    },
    {
      "cell_type": "code",
      "execution_count": null,
      "id": "crazy-passenger",
      "metadata": {
        "id": "crazy-passenger",
        "outputId": "9d1970ff-5d1c-4750-8e37-ac0423e34b5b"
      },
      "outputs": [
        {
          "data": {
            "text/html": [
              "<div>\n",
              "<style scoped>\n",
              "    .dataframe tbody tr th:only-of-type {\n",
              "        vertical-align: middle;\n",
              "    }\n",
              "\n",
              "    .dataframe tbody tr th {\n",
              "        vertical-align: top;\n",
              "    }\n",
              "\n",
              "    .dataframe thead th {\n",
              "        text-align: right;\n",
              "    }\n",
              "</style>\n",
              "<table border=\"1\" class=\"dataframe\">\n",
              "  <thead>\n",
              "    <tr style=\"text-align: right;\">\n",
              "      <th></th>\n",
              "      <th>store_id</th>\n",
              "      <th>card_id</th>\n",
              "      <th>card_company</th>\n",
              "      <th>transacted_date</th>\n",
              "      <th>transacted_time</th>\n",
              "      <th>installment_term</th>\n",
              "      <th>amount</th>\n",
              "    </tr>\n",
              "  </thead>\n",
              "  <tbody>\n",
              "    <tr>\n",
              "      <th>0</th>\n",
              "      <td>0</td>\n",
              "      <td>0</td>\n",
              "      <td>b</td>\n",
              "      <td>2016-06-01</td>\n",
              "      <td>13:13</td>\n",
              "      <td>0.0</td>\n",
              "      <td>1857.142857</td>\n",
              "    </tr>\n",
              "    <tr>\n",
              "      <th>1</th>\n",
              "      <td>0</td>\n",
              "      <td>1</td>\n",
              "      <td>h</td>\n",
              "      <td>2016-06-01</td>\n",
              "      <td>18:12</td>\n",
              "      <td>0.0</td>\n",
              "      <td>857.142857</td>\n",
              "    </tr>\n",
              "    <tr>\n",
              "      <th>2</th>\n",
              "      <td>0</td>\n",
              "      <td>2</td>\n",
              "      <td>c</td>\n",
              "      <td>2016-06-01</td>\n",
              "      <td>18:52</td>\n",
              "      <td>0.0</td>\n",
              "      <td>2000.000000</td>\n",
              "    </tr>\n",
              "    <tr>\n",
              "      <th>3</th>\n",
              "      <td>0</td>\n",
              "      <td>3</td>\n",
              "      <td>a</td>\n",
              "      <td>2016-06-01</td>\n",
              "      <td>20:22</td>\n",
              "      <td>0.0</td>\n",
              "      <td>7857.142857</td>\n",
              "    </tr>\n",
              "    <tr>\n",
              "      <th>4</th>\n",
              "      <td>0</td>\n",
              "      <td>4</td>\n",
              "      <td>c</td>\n",
              "      <td>2016-06-02</td>\n",
              "      <td>11:06</td>\n",
              "      <td>0.0</td>\n",
              "      <td>2000.000000</td>\n",
              "    </tr>\n",
              "  </tbody>\n",
              "</table>\n",
              "</div>"
            ],
            "text/plain": [
              "   store_id  card_id card_company transacted_date transacted_time  \\\n",
              "0         0        0            b      2016-06-01           13:13   \n",
              "1         0        1            h      2016-06-01           18:12   \n",
              "2         0        2            c      2016-06-01           18:52   \n",
              "3         0        3            a      2016-06-01           20:22   \n",
              "4         0        4            c      2016-06-02           11:06   \n",
              "\n",
              "   installment_term       amount  \n",
              "0               0.0  1857.142857  \n",
              "1               0.0   857.142857  \n",
              "2               0.0  2000.000000  \n",
              "3               0.0  7857.142857  \n",
              "4               0.0  2000.000000  "
            ]
          },
          "execution_count": 15,
          "metadata": {},
          "output_type": "execute_result"
        }
      ],
      "source": [
        "train =  train.drop(['region','type_of_business'],axis = 1)\n",
        "train.head()"
      ]
    },
    {
      "cell_type": "code",
      "execution_count": null,
      "id": "speaking-persian",
      "metadata": {
        "id": "speaking-persian",
        "outputId": "6feb100c-1942-4d4f-a8d4-4b139ef57905"
      },
      "outputs": [
        {
          "data": {
            "text/plain": [
              "<AxesSubplot:xlabel='amount'>"
            ]
          },
          "execution_count": 16,
          "metadata": {},
          "output_type": "execute_result"
        },
        {
          "data": {
            "image/png": "[encoded data removed]",
            "text/plain": [
              "<Figure size 576x288 with 1 Axes>"
            ]
          },
          "metadata": {
            "needs_background": "light"
          },
          "output_type": "display_data"
        }
      ],
      "source": [
        "plt.figure(figsize=(8,4))\n",
        "sns.boxplot(train['amount'])"
      ]
    },
    {
      "cell_type": "code",
      "execution_count": null,
      "id": "perfect-thermal",
      "metadata": {
        "id": "perfect-thermal",
        "outputId": "906b893e-b4ea-4cf5-8a09-7acfd22c1dd4"
      },
      "outputs": [
        {
          "data": {
            "text/html": [
              "<div>\n",
              "<style scoped>\n",
              "    .dataframe tbody tr th:only-of-type {\n",
              "        vertical-align: middle;\n",
              "    }\n",
              "\n",
              "    .dataframe tbody tr th {\n",
              "        vertical-align: top;\n",
              "    }\n",
              "\n",
              "    .dataframe thead th {\n",
              "        text-align: right;\n",
              "    }\n",
              "</style>\n",
              "<table border=\"1\" class=\"dataframe\">\n",
              "  <thead>\n",
              "    <tr style=\"text-align: right;\">\n",
              "      <th></th>\n",
              "      <th>store_id</th>\n",
              "      <th>card_id</th>\n",
              "      <th>card_company</th>\n",
              "      <th>transacted_date</th>\n",
              "      <th>transacted_time</th>\n",
              "      <th>installment_term</th>\n",
              "      <th>amount</th>\n",
              "    </tr>\n",
              "  </thead>\n",
              "  <tbody>\n",
              "    <tr>\n",
              "      <th>41</th>\n",
              "      <td>0</td>\n",
              "      <td>40</td>\n",
              "      <td>a</td>\n",
              "      <td>2016-06-10</td>\n",
              "      <td>17:26</td>\n",
              "      <td>2.0</td>\n",
              "      <td>-8571.428571</td>\n",
              "    </tr>\n",
              "    <tr>\n",
              "      <th>347</th>\n",
              "      <td>0</td>\n",
              "      <td>285</td>\n",
              "      <td>a</td>\n",
              "      <td>2016-08-04</td>\n",
              "      <td>17:52</td>\n",
              "      <td>0.0</td>\n",
              "      <td>-1857.142857</td>\n",
              "    </tr>\n",
              "    <tr>\n",
              "      <th>731</th>\n",
              "      <td>0</td>\n",
              "      <td>473</td>\n",
              "      <td>g</td>\n",
              "      <td>2016-10-17</td>\n",
              "      <td>10:32</td>\n",
              "      <td>0.0</td>\n",
              "      <td>-2000.000000</td>\n",
              "    </tr>\n",
              "    <tr>\n",
              "      <th>831</th>\n",
              "      <td>0</td>\n",
              "      <td>230</td>\n",
              "      <td>b</td>\n",
              "      <td>2016-11-03</td>\n",
              "      <td>15:36</td>\n",
              "      <td>0.0</td>\n",
              "      <td>-85.714286</td>\n",
              "    </tr>\n",
              "    <tr>\n",
              "      <th>944</th>\n",
              "      <td>0</td>\n",
              "      <td>138</td>\n",
              "      <td>a</td>\n",
              "      <td>2016-11-28</td>\n",
              "      <td>13:21</td>\n",
              "      <td>0.0</td>\n",
              "      <td>-57.142857</td>\n",
              "    </tr>\n",
              "  </tbody>\n",
              "</table>\n",
              "</div>"
            ],
            "text/plain": [
              "     store_id  card_id card_company transacted_date transacted_time  \\\n",
              "41          0       40            a      2016-06-10           17:26   \n",
              "347         0      285            a      2016-08-04           17:52   \n",
              "731         0      473            g      2016-10-17           10:32   \n",
              "831         0      230            b      2016-11-03           15:36   \n",
              "944         0      138            a      2016-11-28           13:21   \n",
              "\n",
              "     installment_term       amount  \n",
              "41                2.0 -8571.428571  \n",
              "347               0.0 -1857.142857  \n",
              "731               0.0 -2000.000000  \n",
              "831               0.0   -85.714286  \n",
              "944               0.0   -57.142857  "
            ]
          },
          "execution_count": 17,
          "metadata": {},
          "output_type": "execute_result"
        }
      ],
      "source": [
        "train[train['amount']<0].head()"
      ]
    },
    {
      "cell_type": "code",
      "execution_count": null,
      "id": "latter-sleeping",
      "metadata": {
        "id": "latter-sleeping",
        "outputId": "b6a51034-3d6e-4316-826e-143c5e3ae7e1"
      },
      "outputs": [
        {
          "data": {
            "text/html": [
              "<div>\n",
              "<style scoped>\n",
              "    .dataframe tbody tr th:only-of-type {\n",
              "        vertical-align: middle;\n",
              "    }\n",
              "\n",
              "    .dataframe tbody tr th {\n",
              "        vertical-align: top;\n",
              "    }\n",
              "\n",
              "    .dataframe thead th {\n",
              "        text-align: right;\n",
              "    }\n",
              "</style>\n",
              "<table border=\"1\" class=\"dataframe\">\n",
              "  <thead>\n",
              "    <tr style=\"text-align: right;\">\n",
              "      <th></th>\n",
              "      <th>store_id</th>\n",
              "      <th>card_id</th>\n",
              "      <th>card_company</th>\n",
              "      <th>transacted_date</th>\n",
              "      <th>transacted_time</th>\n",
              "      <th>installment_term</th>\n",
              "      <th>amount</th>\n",
              "      <th>datetime</th>\n",
              "    </tr>\n",
              "  </thead>\n",
              "  <tbody>\n",
              "    <tr>\n",
              "      <th>0</th>\n",
              "      <td>0</td>\n",
              "      <td>0</td>\n",
              "      <td>b</td>\n",
              "      <td>2016-06-01</td>\n",
              "      <td>13:13</td>\n",
              "      <td>0.0</td>\n",
              "      <td>1857.142857</td>\n",
              "      <td>2016-06-01 13:13:00</td>\n",
              "    </tr>\n",
              "    <tr>\n",
              "      <th>1</th>\n",
              "      <td>0</td>\n",
              "      <td>1</td>\n",
              "      <td>h</td>\n",
              "      <td>2016-06-01</td>\n",
              "      <td>18:12</td>\n",
              "      <td>0.0</td>\n",
              "      <td>857.142857</td>\n",
              "      <td>2016-06-01 18:12:00</td>\n",
              "    </tr>\n",
              "    <tr>\n",
              "      <th>2</th>\n",
              "      <td>0</td>\n",
              "      <td>2</td>\n",
              "      <td>c</td>\n",
              "      <td>2016-06-01</td>\n",
              "      <td>18:52</td>\n",
              "      <td>0.0</td>\n",
              "      <td>2000.000000</td>\n",
              "      <td>2016-06-01 18:52:00</td>\n",
              "    </tr>\n",
              "    <tr>\n",
              "      <th>3</th>\n",
              "      <td>0</td>\n",
              "      <td>3</td>\n",
              "      <td>a</td>\n",
              "      <td>2016-06-01</td>\n",
              "      <td>20:22</td>\n",
              "      <td>0.0</td>\n",
              "      <td>7857.142857</td>\n",
              "      <td>2016-06-01 20:22:00</td>\n",
              "    </tr>\n",
              "    <tr>\n",
              "      <th>4</th>\n",
              "      <td>0</td>\n",
              "      <td>4</td>\n",
              "      <td>c</td>\n",
              "      <td>2016-06-02</td>\n",
              "      <td>11:06</td>\n",
              "      <td>0.0</td>\n",
              "      <td>2000.000000</td>\n",
              "      <td>2016-06-02 11:06:00</td>\n",
              "    </tr>\n",
              "  </tbody>\n",
              "</table>\n",
              "</div>"
            ],
            "text/plain": [
              "   store_id  card_id card_company transacted_date transacted_time  \\\n",
              "0         0        0            b      2016-06-01           13:13   \n",
              "1         0        1            h      2016-06-01           18:12   \n",
              "2         0        2            c      2016-06-01           18:52   \n",
              "3         0        3            a      2016-06-01           20:22   \n",
              "4         0        4            c      2016-06-02           11:06   \n",
              "\n",
              "   installment_term       amount            datetime  \n",
              "0               0.0  1857.142857 2016-06-01 13:13:00  \n",
              "1               0.0   857.142857 2016-06-01 18:12:00  \n",
              "2               0.0  2000.000000 2016-06-01 18:52:00  \n",
              "3               0.0  7857.142857 2016-06-01 20:22:00  \n",
              "4               0.0  2000.000000 2016-06-02 11:06:00  "
            ]
          },
          "execution_count": 18,
          "metadata": {},
          "output_type": "execute_result"
        }
      ],
      "source": [
        "train['datetime'] = pd.to_datetime(train.transacted_date+' '+train.transacted_time, format = '%Y-%m-%d %H:%M:%S')\n",
        "train.head()"
      ]
    },
    {
      "cell_type": "code",
      "execution_count": null,
      "id": "immediate-windows",
      "metadata": {
        "id": "immediate-windows"
      },
      "outputs": [],
      "source": [
        "def remove_refund(df):\n",
        "    refund = df[df['amount']<0] # 매출 음숫값\n",
        "    non_refund = df[df['amount']>0] # 매출 양숫값\n",
        "    removed_data = pd.DataFrame()\n",
        "    \n",
        "    for i in tqdm(df.store_id.unique()):\n",
        "        divided_data = non_refund[non_refund['store_id']==i]  # 매출 양숫값 상점별 분류\n",
        "        divided_data2 = refund[refund['store_id']==i] # 매출 음숫값 상점별 분류\n",
        "        \n",
        "        for neg in divided_data2.to_records()[:]:\n",
        "            refund_store = neg['store_id']\n",
        "            refund_id = neg['card_id'] # 환불 카드 아이디 추출\n",
        "            refund_datetime = neg['datetime'] # 환불 시간 추출\n",
        "            refund_amount = abs(neg['amount']) # 매출 음숫값의 절댓값\n",
        "            \n",
        "            refund_pay_list = divided_data[divided_data['datetime']<= refund_datetime]\n",
        "            refund_pay_list = refund_pay_list[refund_pay_list['card_id'] == refund_id]\n",
        "            refund_pay_list = refund_pay_list[refund_pay_list['amount'] == refund_amount]\n",
        "            \n",
        "            if len(refund_pay_list) != 0:\n",
        "                refund_datetime = max(refund_pay_list['datetime'])\n",
        "                noise_list = divided_data[divided_data['datetime']==refund_datetime]\n",
        "                noise_list = noise_list[noise_list['card_id']==refund_id]\n",
        "                noise_list = noise_list[noise_list['amount']==refund_amount]\n",
        "                divided_data = divided_data.drop(index=noise_list.index)\n",
        "        removed_data = pd.concat([removed_data,divided_data], axis = 0)\n",
        "    return removed_data\n",
        "        "
      ]
    },
    {
      "cell_type": "code",
      "execution_count": null,
      "id": "latin-genre",
      "metadata": {
        "id": "latin-genre",
        "outputId": "b6d6e813-1348-4637-9e65-40951bc525a8"
      },
      "outputs": [
        {
          "name": "stderr",
          "output_type": "stream",
          "text": [
            "100%|██████████| 60/60 [00:07<00:00,  8.17it/s]\n"
          ]
        },
        {
          "data": {
            "text/plain": [
              "<AxesSubplot:xlabel='amount'>"
            ]
          },
          "execution_count": 24,
          "metadata": {},
          "output_type": "execute_result"
        },
        {
          "data": {
            "image/png": "[encoded data removed]",
            "text/plain": [
              "<Figure size 576x288 with 1 Axes>"
            ]
          },
          "metadata": {
            "needs_background": "light"
          },
          "output_type": "display_data"
        }
      ],
      "source": [
        "positive_data = remove_refund(train)\n",
        "plt.figure(figsize=(8,4))\n",
        "sns.boxplot(positive_data['amount'])"
      ]
    },
    {
      "cell_type": "code",
      "execution_count": null,
      "id": "vulnerable-engineer",
      "metadata": {
        "id": "vulnerable-engineer",
        "outputId": "40c1f79e-c338-4f3f-f45c-c2208fdba77b"
      },
      "outputs": [
        {
          "data": {
            "text/html": [
              "<div>\n",
              "<style scoped>\n",
              "    .dataframe tbody tr th:only-of-type {\n",
              "        vertical-align: middle;\n",
              "    }\n",
              "\n",
              "    .dataframe tbody tr th {\n",
              "        vertical-align: top;\n",
              "    }\n",
              "\n",
              "    .dataframe thead th {\n",
              "        text-align: right;\n",
              "    }\n",
              "</style>\n",
              "<table border=\"1\" class=\"dataframe\">\n",
              "  <thead>\n",
              "    <tr style=\"text-align: right;\">\n",
              "      <th></th>\n",
              "      <th>store_id</th>\n",
              "      <th>card_id</th>\n",
              "      <th>card_company</th>\n",
              "      <th>transacted_date</th>\n",
              "      <th>transacted_time</th>\n",
              "      <th>installment_term</th>\n",
              "      <th>amount</th>\n",
              "      <th>datetime</th>\n",
              "    </tr>\n",
              "  </thead>\n",
              "  <tbody>\n",
              "    <tr>\n",
              "      <th>0</th>\n",
              "      <td>0</td>\n",
              "      <td>0</td>\n",
              "      <td>b</td>\n",
              "      <td>2016-06-01</td>\n",
              "      <td>13:13</td>\n",
              "      <td>0.0</td>\n",
              "      <td>1857.142857</td>\n",
              "      <td>2016-06-01 13:13:00</td>\n",
              "    </tr>\n",
              "    <tr>\n",
              "      <th>1</th>\n",
              "      <td>0</td>\n",
              "      <td>1</td>\n",
              "      <td>h</td>\n",
              "      <td>2016-06-01</td>\n",
              "      <td>18:12</td>\n",
              "      <td>0.0</td>\n",
              "      <td>857.142857</td>\n",
              "      <td>2016-06-01 18:12:00</td>\n",
              "    </tr>\n",
              "    <tr>\n",
              "      <th>2</th>\n",
              "      <td>0</td>\n",
              "      <td>2</td>\n",
              "      <td>c</td>\n",
              "      <td>2016-06-01</td>\n",
              "      <td>18:52</td>\n",
              "      <td>0.0</td>\n",
              "      <td>2000.000000</td>\n",
              "      <td>2016-06-01 18:52:00</td>\n",
              "    </tr>\n",
              "    <tr>\n",
              "      <th>3</th>\n",
              "      <td>0</td>\n",
              "      <td>3</td>\n",
              "      <td>a</td>\n",
              "      <td>2016-06-01</td>\n",
              "      <td>20:22</td>\n",
              "      <td>0.0</td>\n",
              "      <td>7857.142857</td>\n",
              "      <td>2016-06-01 20:22:00</td>\n",
              "    </tr>\n",
              "    <tr>\n",
              "      <th>4</th>\n",
              "      <td>0</td>\n",
              "      <td>4</td>\n",
              "      <td>c</td>\n",
              "      <td>2016-06-02</td>\n",
              "      <td>11:06</td>\n",
              "      <td>0.0</td>\n",
              "      <td>2000.000000</td>\n",
              "      <td>2016-06-02 11:06:00</td>\n",
              "    </tr>\n",
              "  </tbody>\n",
              "</table>\n",
              "</div>"
            ],
            "text/plain": [
              "   store_id  card_id card_company transacted_date transacted_time  \\\n",
              "0         0        0            b      2016-06-01           13:13   \n",
              "1         0        1            h      2016-06-01           18:12   \n",
              "2         0        2            c      2016-06-01           18:52   \n",
              "3         0        3            a      2016-06-01           20:22   \n",
              "4         0        4            c      2016-06-02           11:06   \n",
              "\n",
              "   installment_term       amount            datetime  \n",
              "0               0.0  1857.142857 2016-06-01 13:13:00  \n",
              "1               0.0   857.142857 2016-06-01 18:12:00  \n",
              "2               0.0  2000.000000 2016-06-01 18:52:00  \n",
              "3               0.0  7857.142857 2016-06-01 20:22:00  \n",
              "4               0.0  2000.000000 2016-06-02 11:06:00  "
            ]
          },
          "execution_count": 26,
          "metadata": {},
          "output_type": "execute_result"
        }
      ],
      "source": [
        "positive_data.head()"
      ]
    },
    {
      "cell_type": "code",
      "execution_count": null,
      "id": "biological-chapter",
      "metadata": {
        "id": "biological-chapter"
      },
      "outputs": [],
      "source": [
        "def month_resampling(df):\n",
        "    new_data = pd.DataFrame()\n",
        "    df['year_month'] = df['transacted_date'].str.slice(stop=7)\n",
        "    year_month = df['year_month'].drop_duplicates()\n",
        "    \n",
        "    downsampling_data = df.groupby(['store_id','year_month']).amount.sum()\n",
        "    downsampling_data = pd.DataFrame(downsampling_data)\n",
        "    downsampling_data = downsampling_data.reset_index(drop=False, inplace = False)\n",
        "    \n",
        "    for i in tqdm(df.store_id.unique()):\n",
        "        store = downsampling_data[downsampling_data['store_id']==i]\n",
        "        start_time = min(store['year_month'])\n",
        "        store = store.merge(year_month, how = 'outer')\n",
        "        store = store.sort_values(by=['year_month'],axis = 0, ascending = True)\n",
        "        store['amount'] = store['amount'].fillna(2) # 0으로 하지 않은 이유는 로그 정규화를 진행해야 하기 때문\n",
        "                                                    # 1이하의 값은 로그 정규화 과정에서 음수 또는 무한대가 나옴\n",
        "        store['store_id'] = store['store_id'].fillna(i)\n",
        "        store = store[store['year_month']>=start_time]\n",
        "        \n",
        "        new_data = pd.concat([new_data,store],axis = 0)\n",
        "    return new_data"
      ]
    },
    {
      "cell_type": "code",
      "execution_count": null,
      "id": "limiting-public",
      "metadata": {
        "id": "limiting-public",
        "outputId": "d25081fd-cfa7-432d-f0cf-21a02677b8e6"
      },
      "outputs": [
        {
          "name": "stderr",
          "output_type": "stream",
          "text": [
            "100%|██████████| 60/60 [00:00<00:00, 261.28it/s]\n"
          ]
        },
        {
          "data": {
            "text/html": [
              "<div>\n",
              "<style scoped>\n",
              "    .dataframe tbody tr th:only-of-type {\n",
              "        vertical-align: middle;\n",
              "    }\n",
              "\n",
              "    .dataframe tbody tr th {\n",
              "        vertical-align: top;\n",
              "    }\n",
              "\n",
              "    .dataframe thead th {\n",
              "        text-align: right;\n",
              "    }\n",
              "</style>\n",
              "<table border=\"1\" class=\"dataframe\">\n",
              "  <thead>\n",
              "    <tr style=\"text-align: right;\">\n",
              "      <th></th>\n",
              "      <th>store_id</th>\n",
              "      <th>year_month</th>\n",
              "      <th>amount</th>\n",
              "    </tr>\n",
              "  </thead>\n",
              "  <tbody>\n",
              "    <tr>\n",
              "      <th>0</th>\n",
              "      <td>0</td>\n",
              "      <td>2016-06</td>\n",
              "      <td>7.470000e+05</td>\n",
              "    </tr>\n",
              "    <tr>\n",
              "      <th>1</th>\n",
              "      <td>0</td>\n",
              "      <td>2016-07</td>\n",
              "      <td>1.005000e+06</td>\n",
              "    </tr>\n",
              "    <tr>\n",
              "      <th>2</th>\n",
              "      <td>0</td>\n",
              "      <td>2016-08</td>\n",
              "      <td>8.697143e+05</td>\n",
              "    </tr>\n",
              "    <tr>\n",
              "      <th>3</th>\n",
              "      <td>0</td>\n",
              "      <td>2016-09</td>\n",
              "      <td>8.978571e+05</td>\n",
              "    </tr>\n",
              "    <tr>\n",
              "      <th>4</th>\n",
              "      <td>0</td>\n",
              "      <td>2016-10</td>\n",
              "      <td>8.354286e+05</td>\n",
              "    </tr>\n",
              "    <tr>\n",
              "      <th>...</th>\n",
              "      <td>...</td>\n",
              "      <td>...</td>\n",
              "      <td>...</td>\n",
              "    </tr>\n",
              "    <tr>\n",
              "      <th>28</th>\n",
              "      <td>66</td>\n",
              "      <td>2018-10</td>\n",
              "      <td>2.000000e+00</td>\n",
              "    </tr>\n",
              "    <tr>\n",
              "      <th>29</th>\n",
              "      <td>66</td>\n",
              "      <td>2018-11</td>\n",
              "      <td>2.000000e+00</td>\n",
              "    </tr>\n",
              "    <tr>\n",
              "      <th>30</th>\n",
              "      <td>66</td>\n",
              "      <td>2018-12</td>\n",
              "      <td>2.000000e+00</td>\n",
              "    </tr>\n",
              "    <tr>\n",
              "      <th>31</th>\n",
              "      <td>66</td>\n",
              "      <td>2019-01</td>\n",
              "      <td>2.000000e+00</td>\n",
              "    </tr>\n",
              "    <tr>\n",
              "      <th>32</th>\n",
              "      <td>66</td>\n",
              "      <td>2019-02</td>\n",
              "      <td>2.000000e+00</td>\n",
              "    </tr>\n",
              "  </tbody>\n",
              "</table>\n",
              "<p>1876 rows × 3 columns</p>\n",
              "</div>"
            ],
            "text/plain": [
              "    store_id year_month        amount\n",
              "0          0    2016-06  7.470000e+05\n",
              "1          0    2016-07  1.005000e+06\n",
              "2          0    2016-08  8.697143e+05\n",
              "3          0    2016-09  8.978571e+05\n",
              "4          0    2016-10  8.354286e+05\n",
              "..       ...        ...           ...\n",
              "28        66    2018-10  2.000000e+00\n",
              "29        66    2018-11  2.000000e+00\n",
              "30        66    2018-12  2.000000e+00\n",
              "31        66    2019-01  2.000000e+00\n",
              "32        66    2019-02  2.000000e+00\n",
              "\n",
              "[1876 rows x 3 columns]"
            ]
          },
          "execution_count": 31,
          "metadata": {},
          "output_type": "execute_result"
        }
      ],
      "source": [
        "resampling_data = month_resampling(positive_data)\n",
        "resampling_data['store_id'] = resampling_data['store_id'].astype(int)\n",
        "resampling_data\n",
        "# 시간 데이터를 너무 크게 다운샘플링 해버리면 정확도가 너무 떨어진다"
      ]
    },
    {
      "cell_type": "code",
      "execution_count": null,
      "id": "czech-compensation",
      "metadata": {
        "id": "czech-compensation"
      },
      "outputs": [],
      "source": [
        "def time_series(df, i):\n",
        "    store = df[df['store_id']==i]\n",
        "    index = pd.date_range(min(store['year_month']),'2019-03',freq='BM')\n",
        "    ts = pd.Series(store['amount'].values,index = index)\n",
        "    return ts"
      ]
    },
    {
      "cell_type": "code",
      "execution_count": null,
      "id": "senior-sterling",
      "metadata": {
        "id": "senior-sterling",
        "outputId": "d9538827-a7e2-4633-ee84-2e290686242f"
      },
      "outputs": [
        {
          "data": {
            "text/plain": [
              "2016-06-30    7.470000e+05\n",
              "2016-07-29    1.005000e+06\n",
              "2016-08-31    8.697143e+05\n",
              "2016-09-30    8.978571e+05\n",
              "2016-10-31    8.354286e+05\n",
              "2016-11-30    6.970000e+05\n",
              "2016-12-30    7.618571e+05\n",
              "2017-01-31    5.856429e+05\n",
              "2017-02-28    7.940000e+05\n",
              "2017-03-31    7.202571e+05\n",
              "2017-04-28    6.852857e+05\n",
              "2017-05-31    7.444286e+05\n",
              "2017-06-30    6.820000e+05\n",
              "2017-07-31    7.282857e+05\n",
              "2017-08-31    7.490000e+05\n",
              "2017-09-29    8.408571e+05\n",
              "2017-10-31    6.005714e+05\n",
              "2017-11-30    6.308571e+05\n",
              "2017-12-29    8.127143e+05\n",
              "2018-01-31    6.431429e+05\n",
              "2018-02-28    6.852857e+05\n",
              "2018-03-30    8.484286e+05\n",
              "2018-04-30    6.361429e+05\n",
              "2018-05-31    6.864286e+05\n",
              "2018-06-29    7.072857e+05\n",
              "2018-07-31    7.587143e+05\n",
              "2018-08-31    6.798571e+05\n",
              "2018-09-28    6.518571e+05\n",
              "2018-10-31    7.390000e+05\n",
              "2018-11-30    6.760000e+05\n",
              "2018-12-31    8.745714e+05\n",
              "2019-01-31    6.828571e+05\n",
              "2019-02-28    5.152857e+05\n",
              "Freq: BM, dtype: float64"
            ]
          },
          "execution_count": 33,
          "metadata": {},
          "output_type": "execute_result"
        }
      ],
      "source": [
        "store_0 = time_series(resampling_data,0)\n",
        "store_0"
      ]
    },
    {
      "cell_type": "code",
      "execution_count": null,
      "id": "verbal-reservation",
      "metadata": {
        "id": "verbal-reservation",
        "outputId": "2674f866-ed73-4f2c-806e-0fa6fa13bf48"
      },
      "outputs": [
        {
          "data": {
            "text/plain": [
              "<AxesSubplot:>"
            ]
          },
          "execution_count": 34,
          "metadata": {},
          "output_type": "execute_result"
        },
        {
          "data": {
            "image/png": "[encoded data removed]",
            "text/plain": [
              "<Figure size 432x288 with 1 Axes>"
            ]
          },
          "metadata": {
            "needs_background": "light"
          },
          "output_type": "display_data"
        }
      ],
      "source": [
        "store_0.plot()"
      ]
    }
  ],
  "metadata": {
    "kernelspec": {
      "display_name": "Python 3",
      "language": "python",
      "name": "python3"
    },
    "language_info": {
      "codemirror_mode": {
        "name": "ipython",
        "version": 3
      },
      "file_extension": ".py",
      "mimetype": "text/x-python",
      "name": "python",
      "nbconvert_exporter": "python",
      "pygments_lexer": "ipython3",
      "version": "3.8.6"
    },
    "colab": {
      "provenance": [],
      "include_colab_link": true
    }
  },
  "nbformat": 4,
  "nbformat_minor": 5
}